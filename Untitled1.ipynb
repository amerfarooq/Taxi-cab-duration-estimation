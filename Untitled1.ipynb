{
 "cells": [
  {
   "cell_type": "code",
   "execution_count": 6,
   "metadata": {
    "scrolled": true
   },
   "outputs": [
    {
     "name": "stdout",
     "output_type": "stream",
     "text": [
      "[<matplotlib.lines.Line2D object at 0x119D0270>]\n"
     ]
    },
    {
     "name": "stderr",
     "output_type": "stream",
     "text": [
      "C:\\Users\\Lenovo\\AppData\\Roaming\\Python\\Python36\\site-packages\\ipykernel_launcher.py:22: RuntimeWarning: overflow encountered in power\n",
      "D:\\Applications\\Python\\lib\\site-packages\\numpy\\core\\fromnumeric.py:86: RuntimeWarning: overflow encountered in reduce\n",
      "  return ufunc.reduce(obj, axis, dtype, out, **passkwargs)\n",
      "C:\\Users\\Lenovo\\AppData\\Roaming\\Python\\Python36\\site-packages\\ipykernel_launcher.py:28: RuntimeWarning: invalid value encountered in subtract\n"
     ]
    },
    {
     "data": {
      "text/plain": [
       "(47, 1)"
      ]
     },
     "execution_count": 6,
     "metadata": {},
     "output_type": "execute_result"
    },
    {
     "data": {
      "image/png": "[encoded data removed]",
      "text/plain": [
       "<Figure size 432x288 with 1 Axes>"
      ]
     },
     "metadata": {
      "needs_background": "light"
     },
     "output_type": "display_data"
    }
   ],
   "source": [
    "import numpy as np\n",
    "import pandas as pd\n",
    "import matplotlib.pyplot as plt\n",
    "\n",
    "my_data = pd.read_csv('home.txt',names=[\"size\",\"bedroom\",\"price\"])\n",
    "\n",
    "#we need to normalize the features using mean normalization\n",
    "# my_data = (my_data - my_data.mean())/my_data.std()\n",
    "\n",
    "#setting the matrixes\n",
    "X = my_data.iloc[:,0:2]\n",
    "ones = np.ones([X.shape[0],1])\n",
    "X = np.concatenate((ones,X),axis=1)\n",
    "\n",
    "y = my_data.iloc[:,2:3].values #.values converts it from pandas.core.frame.DataFrame to numpy.ndarray\n",
    "theta = np.zeros([1,3])\n",
    "\n",
    "\n",
    "\n",
    "#computecost\n",
    "def computeCost(X,y,theta):\n",
    "    tobesummed = np.power(((X @ theta.T)-y),2)\n",
    "    return np.sum(tobesummed)/(2 * len(X))\n",
    "\n",
    "def gradientDescent(X,y,theta,iters,alpha):\n",
    "    cost = np.zeros(iters)\n",
    "    for i in range(iters):\n",
    "        theta = theta - (alpha/len(X)) * np.sum(X * (X @ theta.T - y), axis=0)\n",
    "        cost[i] = computeCost(X, y, theta)\n",
    "    \n",
    "    return theta,cost\n",
    "\n",
    "#set hyper parameters\n",
    "alpha = 0.01\n",
    "iters = 1000\n",
    "\n",
    "g,cost = gradientDescent(X,y,theta,iters,alpha)\n",
    "\n",
    "fig, ax = plt.subplots()  \n",
    "print(ax.plot(np.arange(iters), cost, 'r'))  \n",
    "ax.set_xlabel('Iterations')  \n",
    "ax.set_ylabel('Cost')  \n",
    "ax.set_title('Error vs. Iterations') \n",
    "\n",
    "X.shape\n",
    "y.shape"
   ]
  },
  {
   "cell_type": "code",
   "execution_count": null,
   "metadata": {},
   "outputs": [],
   "source": [
    "train_data = pd.read_csv( \"train.csv\" )\n",
    "test_data = pd.read_csv( \"test.csv\" )\n"
   ]
  }
 ],
 "metadata": {
  "kernelspec": {
   "display_name": "Python 3",
   "language": "python",
   "name": "python3"
  },
  "language_info": {
   "codemirror_mode": {
    "name": "ipython",
    "version": 3
   },
   "file_extension": ".py",
   "mimetype": "text/x-python",
   "name": "python",
   "nbconvert_exporter": "python",
   "pygments_lexer": "ipython3",
   "version": "3.6.5"
  }
 },
 "nbformat": 4,
 "nbformat_minor": 2
}
