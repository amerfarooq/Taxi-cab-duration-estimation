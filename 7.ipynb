{
 "cells": [
  {
   "cell_type": "code",
   "execution_count": 3,
   "metadata": {},
   "outputs": [],
   "source": [
    "import numpy as np\n",
    "import pandas as pd\n",
    "from pyproj import Geod\n",
    "import datetime\n",
    "from matplotlib import pyplot as plt\n",
    "import seaborn as sns"
   ]
  },
  {
   "cell_type": "code",
   "execution_count": 4,
   "metadata": {
    "_cell_guid": "79c7e3d0-c299-4dcb-8224-4455121ee9b0",
    "_uuid": "d629ff2d2480ee46fbb7e2d37f6b5fab8052498a"
   },
   "outputs": [],
   "source": [
    "train_data = pd.read_csv( \"train.csv\" )\n",
    "test_data = pd.read_csv( \"test.csv\" )"
   ]
  },
  {
   "cell_type": "code",
   "execution_count": 5,
   "metadata": {},
   "outputs": [],
   "source": [
    "# Utiliy functions\n",
    "\n",
    "#Get distance between pairs of lat-lon points\n",
    "wgs84_geod = Geod(ellps='WGS84')\n",
    "def get_distance(lat1,lon1,lat2,lon2):\n",
    "    az12,az21,dist = wgs84_geod.inv(lon1,lat1,lon2,lat2)\n",
    "    return dist\n",
    "\n",
    "# Convert time object to seconds\n",
    "def to_seconds(time):\n",
    "    return (time.hour * 60 + time.minute) * 60 + time.second"
   ]
  },
  {
   "cell_type": "code",
   "execution_count": 6,
   "metadata": {},
   "outputs": [],
   "source": [
    "def normalize(data):\n",
    "    return ((data - data.min()) / (data.max() - data.min()))\n",
    "\n",
    "def process_data(data):\n",
    "    # Calculating distance (km) based on longitude/latituides and adding it in a new column 'dist'\n",
    "    data['dist'] = get_distance(data['pickup_latitude'].tolist(), data['pickup_longitude'].tolist(),\n",
    "                                data['dropoff_latitude'].tolist(), data['dropoff_longitude'].tolist())\n",
    "    \n",
    "    data['dist'] = data['dist'] / 1000\n",
    "#     data['dist'] = data['dist']**2\n",
    "    \n",
    "    # Replacing N of store_and_fwd_flag with 0 and Y with 1\n",
    "    data = data.replace({'N': 0, 'Y': 1})\n",
    "\n",
    "    data['pickup_datetime'] = pd.to_datetime(data['pickup_datetime'])    \n",
    "    data['pickup_day_of_week'] = data.pickup_datetime.dt.weekday\n",
    "    data['pickup_day_of_month'] = data.pickup_datetime.dt.days_in_month\n",
    "    data['pickup_month'] = data.pickup_datetime.dt.month\n",
    "    data['pickup_hour'] = data.pickup_datetime.dt.hour\n",
    "    data['pickup_min'] = data.pickup_datetime.dt.minute\n",
    "#     data['is_weekend'] = data.pickup_day_of_week.map(lambda x: 1 if x >= 5 else 0)\n",
    "#     data['is_night_time'] = [1 if (i==0 or i>=19)  else 0 for i in data['pickup_hour']]\n",
    "    \n",
    "#     data['pickup_latitude'] = data['pickup_latitude']**2\n",
    "#     data['pickup_longitude'] = data['pickup_longitude']**2\n",
    "#     data['dropoff_longitude'] = data['dropoff_longitude']**2\n",
    "#     data['dropoff_latitude'] = data['dropoff_latitude']**2\n",
    "    \n",
    "    # Dropping columns no longer required\n",
    "    data = data.drop([ 'pickup_latitude', 'pickup_longitude', 'pickup_datetime',\n",
    "                       'dropoff_latitude','dropoff_longitude', 'id'], axis=1)\n",
    "\n",
    "\n",
    "#     data = data.drop(['pickup_datetime', 'id'], axis=1)\n",
    "            \n",
    "    return data"
   ]
  },
  {
   "cell_type": "code",
   "execution_count": 7,
   "metadata": {},
   "outputs": [],
   "source": [
    "# Hypothesis function\n",
    "def hyp(theta, X):\n",
    "    return np.dot(X, theta.T)  \n",
    "\n",
    "# The loss function in our case is the sum of the squared error\n",
    "def loss_func(theta, X, Y):\n",
    "    return np.sum(((hyp(theta, X) - Y)**2) / (2 * X.shape[0]))\n",
    "\n",
    "def get_gradient(theta, X, Y):\n",
    "    derivatives = []\n",
    "  \n",
    "    for i in range(0, X.shape[1]):\n",
    "        derivatives.append(np.sum((hyp(theta, X) - Y) * X[:, i]) / X.shape[0])\n",
    "\n",
    "    return np.array(derivatives)\n",
    "\n",
    "def gradient_descent(X, Y, maxniter=20000):\n",
    "    thetas = np.random.rand(X.shape[1],)\n",
    "    alpha = 0.001\n",
    "    costs = []\n",
    "    \n",
    "    for i in range(0, maxniter):\n",
    "        thetas = thetas - (alpha * get_gradient(thetas, X, Y))\n",
    "        costs.append(loss_func(thetas, X, Y))\n",
    "        \n",
    "    return thetas, costs"
   ]
  },
  {
   "cell_type": "code",
   "execution_count": 8,
   "metadata": {},
   "outputs": [
    {
     "name": "stderr",
     "output_type": "stream",
     "text": [
      "C:\\Users\\Lenovo\\AppData\\Roaming\\Python\\Python36\\site-packages\\ipykernel_launcher.py:7: RuntimeWarning: overflow encountered in square\n",
      "  import sys\n",
      "D:\\Applications\\Python\\lib\\site-packages\\numpy\\core\\fromnumeric.py:86: RuntimeWarning: overflow encountered in reduce\n",
      "  return ufunc.reduce(obj, axis, dtype, out, **passkwargs)\n",
      "C:\\Users\\Lenovo\\AppData\\Roaming\\Python\\Python36\\site-packages\\ipykernel_launcher.py:13: RuntimeWarning: invalid value encountered in multiply\n",
      "  del sys.path[0]\n"
     ]
    },
    {
     "data": {
      "text/plain": [
       "[<matplotlib.lines.Line2D at 0x12369e70>]"
      ]
     },
     "execution_count": 8,
     "metadata": {},
     "output_type": "execute_result"
    },
    {
     "data": {
      "image/png": "[encoded data removed]",
      "text/plain": [
       "<Figure size 432x288 with 1 Axes>"
      ]
     },
     "metadata": {
      "needs_background": "light"
     },
     "output_type": "display_data"
    }
   ],
   "source": [
    "proc_data = process_data(train_data)\n",
    "# proc_data = proc_data[(proc_data['trip_duration'] >= 120) & (proc_data['trip_duration'] <= 3000)]\n",
    "# proc_data = proc_data[proc_data.trip_duration <= np.percentile(proc_data.trip_duration, 99)]\n",
    "# proc_data = proc_data[proc_data.dist <= np.percentile(proc_data.dist, 98)]\n",
    "X = proc_data.drop('trip_duration', axis=1).values\n",
    "Y = proc_data['trip_duration'].values\n",
    "\n",
    "max_iters = 5000\n",
    "thetas, costs = gradient_descent(X, Y, max_iters)\n",
    "plt.ylabel('Loss')\n",
    "plt.xlabel('Iterations')\n",
    "plt.plot(np.arange(0, max_iters), costs)"
   ]
  },
  {
   "cell_type": "code",
   "execution_count": 101,
   "metadata": {},
   "outputs": [
    {
     "data": {
      "text/plain": [
       "vendor_id                int64\n",
       "passenger_count          int64\n",
       "store_and_fwd_flag       int64\n",
       "trip_duration            int64\n",
       "dist                   float64\n",
       "pickup_day_of_week       int64\n",
       "pickup_day_of_month      int64\n",
       "pickup_month             int64\n",
       "pickup_hour              int64\n",
       "pickup_min               int64\n",
       "dtype: object"
      ]
     },
     "execution_count": 101,
     "metadata": {},
     "output_type": "execute_result"
    }
   ],
   "source": [
    "proc_data = process_data(train_data)\n",
    "proc_data.dtypes"
   ]
  },
  {
   "cell_type": "code",
   "execution_count": 98,
   "metadata": {},
   "outputs": [
    {
     "name": "stdout",
     "output_type": "stream",
     "text": [
      "                  0\n",
      "count  30000.000000\n",
      "mean     965.206554\n",
      "std      528.899915\n",
      "min      321.490885\n",
      "25%      672.157737\n",
      "50%      802.555303\n",
      "75%     1041.719432\n",
      "max     7909.361168\n",
      "              id  trip_duration\n",
      "0      id1430318     842.926369\n",
      "1      id3276964     727.816390\n",
      "2      id2541342    1119.064933\n",
      "3      id3582288     561.453948\n",
      "4      id2976277     428.129761\n",
      "5      id1856113     854.457445\n",
      "6      id0712136     883.606233\n",
      "7      id2704634     908.610295\n",
      "8      id2736446     519.318796\n",
      "9      id3267520    1100.796929\n",
      "10     id2060082     930.207033\n",
      "11     id0668631     753.896162\n",
      "12     id3972794    1072.114822\n",
      "13     id3610505    1302.093831\n",
      "14     id1129765     607.210100\n",
      "15     id0846002     725.974250\n",
      "16     id2738706    1196.907658\n",
      "17     id0077153     531.327100\n",
      "18     id0096075     641.217361\n",
      "19     id1543517     916.996485\n",
      "20     id1557821     861.804553\n",
      "21     id1453667     823.068973\n",
      "22     id3968862     597.780357\n",
      "23     id3810234     786.421571\n",
      "24     id2796384     851.099123\n",
      "25     id3008946     949.857700\n",
      "26     id0025244     523.966862\n",
      "27     id1660873    3114.081519\n",
      "28     id2758688     665.739827\n",
      "29     id2101485    2255.227173\n",
      "...          ...            ...\n",
      "29970  id3405688    1031.103439\n",
      "29971  id0676345    3324.365914\n",
      "29972  id0678858     628.484764\n",
      "29973  id0106618     830.663090\n",
      "29974  id0046333     743.927987\n",
      "29975  id3465989     738.122965\n",
      "29976  id2924748    1353.177633\n",
      "29977  id2657374     921.460100\n",
      "29978  id2684952     898.442308\n",
      "29979  id0625691     542.979738\n",
      "29980  id2012538     897.271036\n",
      "29981  id1527149    1429.001544\n",
      "29982  id3423389    1179.300828\n",
      "29983  id1491075    1657.054137\n",
      "29984  id1453634     658.269888\n",
      "29985  id3401858     802.972993\n",
      "29986  id0342521    1314.328640\n",
      "29987  id1704190     941.128099\n",
      "29988  id0879503    1188.210821\n",
      "29989  id0113735    1489.413808\n",
      "29990  id0257806     909.257912\n",
      "29991  id0787008     888.687053\n",
      "29992  id3011264     625.263393\n",
      "29993  id3369569     767.171173\n",
      "29994  id3029494     610.146575\n",
      "29995  id1173382    1579.712714\n",
      "29996  id2698052     522.532825\n",
      "29997  id0666861    1064.292227\n",
      "29998  id1888498     767.817030\n",
      "29999  id1592665     628.865217\n",
      "\n",
      "[30000 rows x 2 columns]\n"
     ]
    }
   ],
   "source": [
    "pred = hyp(thetas, process_data(test_data))\n",
    "\n",
    "submission = pd.DataFrame({'id':test_data['id'],'trip_duration':pred})\n",
    "submission.to_csv(\"submission.csv\", index=False)\n",
    "\n",
    "print(pd.DataFrame(pred).describe())\n",
    "print(submission)"
   ]
  },
  {
   "cell_type": "markdown",
   "metadata": {},
   "source": [
    "count  30000.000000\n",
    "mean     951.616440\n",
    "std      551.389681\n",
    "min      266.693274\n",
    "25%      634.700283\n",
    "50%      808.378487\n",
    "75%     1046.484861\n",
    "max     8028.482600"
   ]
  },
  {
   "cell_type": "code",
   "execution_count": null,
   "metadata": {},
   "outputs": [],
   "source": [
    "# Removing outliers\n",
    "\n",
    "# 1-\n",
    "# temp = train_data[train_data.trip_duration <= np.percentile(train_data.trip_duration, 99)]\n",
    "\n",
    "# 2-\n",
    "# temp = process_data(train_data)\n",
    "# temp = temp[(temp['trip_duration'] >= 120) & (temp['trip_duration'] <= 3000)]\n",
    "# temp = temp[(temp['dist'] > 0)]\n",
    "# temp = temp[temp.dist <= np.percentile(temp.dist, 98)]\n",
    "\n",
    "# print(temp.passenger_count.describe())\n",
    "\n",
    "# print(temp.trip_duration.describe())\n",
    "\n",
    "# fig, ax = plt.subplots()\n",
    "# sns.distplot(temp['trip_duration'], hist=False, rug=True)\n",
    "# sns.distplot(temp['dist'], hist=False, rug=True)"
   ]
  }
 ],
 "metadata": {
  "kernelspec": {
   "display_name": "Python 3",
   "language": "python",
   "name": "python3"
  },
  "language_info": {
   "codemirror_mode": {
    "name": "ipython",
    "version": 3
   },
   "file_extension": ".py",
   "mimetype": "text/x-python",
   "name": "python",
   "nbconvert_exporter": "python",
   "pygments_lexer": "ipython3",
   "version": "3.6.5"
  }
 },
 "nbformat": 4,
 "nbformat_minor": 1
}
